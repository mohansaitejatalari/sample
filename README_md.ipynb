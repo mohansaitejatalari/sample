{
  "nbformat": 4,
  "nbformat_minor": 0,
  "metadata": {
    "colab": {
      "name": "README.md",
      "provenance": [],
      "authorship_tag": "ABX9TyOhy5pZU6+6e0zeQ92Jrfns",
      "include_colab_link": true
    },
    "kernelspec": {
      "name": "python3",
      "display_name": "Python 3"
    },
    "language_info": {
      "name": "python"
    }
  },
  "cells": [
    {
      "cell_type": "markdown",
      "metadata": {
        "id": "view-in-github",
        "colab_type": "text"
      },
      "source": [
        "<a href=\"https://colab.research.google.com/github/mohansaitejatalari/sample/blob/main/README_md.ipynb\" target=\"_parent\"><img src=\"https://colab.research.google.com/assets/colab-badge.svg\" alt=\"Open In Colab\"/></a>"
      ]
    },
    {
      "cell_type": "markdown",
      "metadata": {
        "id": "eZjqoi5FBk_U"
      },
      "source": [
        "#PYTHON - LAMBDA FUNCTION\n",
        "\n",
        "**Lambda** function is a small , anonymous (without name) function supported by Python.\n",
        "\n",
        "A lambda function takes any number of arguments but will have only one expression to be evaluated, returns its result.\n",
        "\n",
        "Unlike normal functions defined with `def` keyword , `lambda` function doesnot have a return statement.\n",
        "\n",
        "**Use Cases**\n",
        "\n",
        "*   Lambda function is used where a function goes out of scope within short span of time.\n",
        "\n",
        "*   It is also used to return function objects.\n",
        "\n",
        "\n",
        "* It is frequently used with built-in functions like `filter()` , `map()`.\n",
        "\n",
        "\n",
        "**Syntax :**\n",
        "\n",
        "```\n",
        "lambda arguments : expression\n",
        "```\n",
        "\n",
        "**Code Snippets demonstrating Use Cases**\n",
        "\n",
        "\n",
        "\n",
        "\n",
        "1.  *Lambda function returning function objects:*\n",
        "\n",
        "\n",
        "\n",
        "Here the lambda function returns the function object and its address as :\n",
        "\n",
        "```<function <lambda> at 0x7fd8bdad8830>```.\n",
        "\n",
        "\n",
        "\n",
        "\n",
        "\n",
        "\n",
        "\n"
      ]
    },
    {
      "cell_type": "code",
      "metadata": {
        "colab": {
          "base_uri": "https://localhost:8080/"
        },
        "id": "FTCLLAn0SfAn",
        "outputId": "e8cf0c7f-c168-42a1-9513-5a13c6f628df"
      },
      "source": [
        "s = 'GWOC'\n",
        "print(lambda s : s)"
      ],
      "execution_count": 2,
      "outputs": [
        {
          "output_type": "stream",
          "name": "stdout",
          "text": [
            "<function <lambda> at 0x7fd8bdb01c20>\n"
          ]
        }
      ]
    }
  ]
}